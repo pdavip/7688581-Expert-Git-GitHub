{
  "nbformat": 4,
  "nbformat_minor": 0,
  "metadata": {
    "colab": {
      "provenance": [],
      "authorship_tag": "ABX9TyONW0kNC6lh2opo/XUORuk8",
      "include_colab_link": true
    },
    "kernelspec": {
      "name": "python3",
      "display_name": "Python 3"
    },
    "language_info": {
      "name": "python"
    }
  },
  "cells": [
    {
      "cell_type": "markdown",
      "metadata": {
        "id": "view-in-github",
        "colab_type": "text"
      },
      "source": [
        "<a href=\"https://colab.research.google.com/github/pdavip/7688581-Expert-Git-GitHub/blob/main/practiques_Python.ipynb\" target=\"_parent\"><img src=\"https://colab.research.google.com/assets/colab-badge.svg\" alt=\"Open In Colab\"/></a>"
      ]
    },
    {
      "cell_type": "code",
      "execution_count": 6,
      "metadata": {
        "colab": {
          "base_uri": "https://localhost:8080/"
        },
        "id": "0sxAq5V4tClp",
        "outputId": "aeda1411-eee0-42a0-f093-1ed040abfc6e"
      },
      "outputs": [
        {
          "output_type": "stream",
          "name": "stdout",
          "text": [
            "Calculer la moyenne pour un élève ?, Ecrivez 'O' pour dire 'Oui': o\n",
            "Entrez le nombre de notes: 2\n",
            "Entrez la note 1: 33\n",
            "Entrez la note 2: 41\n",
            "La somme des notes est de 74.\n",
            "La moyenne des notes est de 37.0.\n",
            "Calculer la moyenne pour un élève ?, Ecrivez 'O' pour dire 'Oui': n\n",
            "D'accord, au revoir !\n"
          ]
        }
      ],
      "source": [
        "accord = True\n",
        "# Fonction nombre notes à saisir\n",
        "def nombre_notes():\n",
        "  n = int(input(\"Entrez le nombre de notes: \"))\n",
        "  return n\n",
        "\n",
        "# Fonction de la saisie des notes\n",
        "def calculer_somme(n):\n",
        "  liste_notes = []\n",
        "  for i in range(n):\n",
        "    note = int(input(f\"Entrez la note {i+1}: \"))\n",
        "    liste_notes.append(note)\n",
        "  # Somme des notes saisies\n",
        "  somme = 0\n",
        "  for j in liste_notes:\n",
        "    somme += j\n",
        "  return somme\n",
        "\n",
        "# Fonction calcul de la moyenne\n",
        "def calculer_moyenne(somme):\n",
        "  moyenne = round(somme/n, 2)\n",
        "  return moyenne\n",
        "\n",
        "while accord:\n",
        "    reponse = input(\"Calculer la moyenne d'un élève ?, Ecrivez 'O' pour dire 'Oui': \")\n",
        "    if (reponse == \"O\") or (reponse == \"o\") or (reponse == \"Oui\" or (reponse == \"oui\")):\n",
        "        n = nombre_notes()\n",
        "        somme = calculer_somme(n)\n",
        "        print(f\"La somme des notes est de {somme}.\")\n",
        "        resultat = calculer_moyenne(somme)\n",
        "        print(f\"La moyenne des notes est de {resultat}.\")\n",
        "    else:\n",
        "        print(\"D'accord, au revoir !\")\n",
        "        break"
      ]
    },
    {
      "cell_type": "code",
      "source": [
        "maPhrase = 'JE SUIS ENERVE !!'\n",
        "maPhrase = maPhrase.lower()\n",
        "maPhrase = maPhrase.replace('enerve', 'calme')\n",
        "print(maPhrase)"
      ],
      "metadata": {
        "colab": {
          "base_uri": "https://localhost:8080/"
        },
        "id": "p76_HBdQ_kZA",
        "outputId": "012e6b94-44ec-4477-f5ba-b0dea248c561"
      },
      "execution_count": 27,
      "outputs": [
        {
          "output_type": "stream",
          "name": "stdout",
          "text": [
            "je suis calme !!\n"
          ]
        }
      ]
    },
    {
      "cell_type": "code",
      "source": [
        "invites = []\n",
        "invites.extend([\"Joey\", \"Martin\", \"Marie\"])\n",
        "print(len(invites))\n",
        "invites[1] = \"John\"\n",
        "invites.remove(\"Joey\")\n",
        "\n",
        "for invite in invites:\n",
        "  print(invite)"
      ],
      "metadata": {
        "colab": {
          "base_uri": "https://localhost:8080/"
        },
        "id": "4vPddxVYTxBZ",
        "outputId": "b6312619-ff6b-42c1-c38c-3bfcb1aa144d"
      },
      "execution_count": 11,
      "outputs": [
        {
          "output_type": "stream",
          "name": "stdout",
          "text": [
            "3\n",
            "John\n",
            "Marie\n"
          ]
        }
      ]
    },
    {
      "cell_type": "code",
      "source": [
        "comptes = {\"Davidson Pierre\": 10000, \"Achnie Alexandre\": 30000, \"Lyana Augustin\": 5000, \"Jocelyne Jeudy\": 20000, \"Arielle Pierre\": 6500}\n",
        "comptes[\"Davidson Pierre\"] -= 1500\n",
        "comptes[\"Arielle Pierre\"] += 500\n",
        "comptes[\"Milouse Glaude\"] = 1000\n",
        "comptes[\"Lidley Pierre\"] = 0\n",
        "comptes.pop(\"Lidley Pierre\")\n",
        "for cle, valeur in comptes.items():\n",
        "  print(f\"{cle}: {valeur} dollar(s)\")"
      ],
      "metadata": {
        "colab": {
          "base_uri": "https://localhost:8080/"
        },
        "id": "ZpCOhcs_z_jT",
        "outputId": "f7f4e998-c99b-4454-9363-98e0be874a44"
      },
      "execution_count": 24,
      "outputs": [
        {
          "output_type": "stream",
          "name": "stdout",
          "text": [
            "Davidson Pierre: 8500 dollar(s)\n",
            "Achnie Alexandre: 30000 dollar(s)\n",
            "Lyana Augustin: 5000 dollar(s)\n",
            "Jocelyne Jeudy: 20000 dollar(s)\n",
            "Arielle Pierre: 7000 dollar(s)\n",
            "Milouse Glaude: 1000 dollar(s)\n"
          ]
        }
      ]
    },
    {
      "cell_type": "code",
      "source": [
        "nom = input(\"Saisissez votre nom: \")\n",
        "\n",
        "if len(nom) > 0 :\n",
        "  print(f\"Salut, {nom} !\")\n",
        "else:\n",
        "  print(\"Salut, inconnu(e) !\")"
      ],
      "metadata": {
        "colab": {
          "base_uri": "https://localhost:8080/"
        },
        "id": "jntPLhpfW975",
        "outputId": "a19ee91d-8fd3-419c-8379-885cfd0d3c07"
      },
      "execution_count": 4,
      "outputs": [
        {
          "output_type": "stream",
          "name": "stdout",
          "text": [
            "Saisissez votre nom: Dave\n",
            "Salut, Dave !\n"
          ]
        }
      ]
    },
    {
      "cell_type": "code",
      "source": [
        "reponse = input(\"Entrez votre reponse: \")\n",
        "liste_reponses = (\"O\", \"Oui\", \"N\", \"Non\")\n",
        "while not reponse in liste_reponses:\n",
        "  reponse = input(\"Erreur, il faut saisir 'O' pour Oui ou 'N' pour non: \").capitalize()"
      ],
      "metadata": {
        "id": "FwoUUp3ykC1g"
      },
      "execution_count": null,
      "outputs": []
    },
    {
      "cell_type": "code",
      "source": [
        "montant_compte = input(\"Quel est le solde de votre compte ? \")\n",
        "\n",
        "try:\n",
        "  montant_compte = int(float(montant_compte))\n",
        "  if montant_compte >= 10000:\n",
        "    print(\"Prêt accordé !\")\n",
        "  elif 100 <= montant_compte < 10000:\n",
        "    print(\"On procède à une etude de dossier !\")\n",
        "  else:\n",
        "    print(\"Prêt refusé !\")\n",
        "except ValueError:\n",
        "  print(\"Erreur: veuillez entrer un nombre valide !\")"
      ],
      "metadata": {
        "colab": {
          "base_uri": "https://localhost:8080/"
        },
        "id": "FPYxEd7MwTq8",
        "outputId": "d1ed7b26-c41a-4a40-d373-1bfd5c32eefd"
      },
      "execution_count": 30,
      "outputs": [
        {
          "output_type": "stream",
          "name": "stdout",
          "text": [
            "Quel est le solde de votre compte ? s\n",
            "Erreur: veuillez entrer un nombre valide !\n"
          ]
        }
      ]
    },
    {
      "cell_type": "markdown",
      "source": [
        "Créez une boucle for qui va afficher : 'OpenClassRooms est vraiment top !' 5 fois"
      ],
      "metadata": {
        "id": "eP8XISmiDvLW"
      }
    },
    {
      "cell_type": "code",
      "source": [
        "for i in range(5):\n",
        "  print(\"OpenClassrooms est vraiment top !\")"
      ],
      "metadata": {
        "colab": {
          "base_uri": "https://localhost:8080/"
        },
        "id": "ewy7gdt08UoG",
        "outputId": "75d850cf-1cc1-4033-fe3b-934fb8a282c8"
      },
      "execution_count": 57,
      "outputs": [
        {
          "output_type": "stream",
          "name": "stdout",
          "text": [
            "OpenClassrooms est vraiment top !\n",
            "OpenClassrooms est vraiment top !\n",
            "OpenClassrooms est vraiment top !\n",
            "OpenClassrooms est vraiment top !\n",
            "OpenClassrooms est vraiment top !\n"
          ]
        }
      ]
    },
    {
      "cell_type": "markdown",
      "source": [
        "Changez une boucle while qui va afficher : 'OpenClassRooms est vraiment top !' 5 fois:"
      ],
      "metadata": {
        "id": "Vr1t1q3QD6_d"
      }
    },
    {
      "cell_type": "code",
      "source": [
        "nombre_affichage = 0\n",
        "while nombre_affichage < 5:\n",
        "  nombre_affichage += 1\n",
        "  print(\"OpenClassrooms est vraiment top !\")"
      ],
      "metadata": {
        "colab": {
          "base_uri": "https://localhost:8080/"
        },
        "id": "ukakfQDLESXo",
        "outputId": "b650d92f-22a9-42a3-8eda-81b5b99b7c2f"
      },
      "execution_count": 58,
      "outputs": [
        {
          "output_type": "stream",
          "name": "stdout",
          "text": [
            "OpenClassrooms est vraiment top !\n",
            "OpenClassrooms est vraiment top !\n",
            "OpenClassrooms est vraiment top !\n",
            "OpenClassrooms est vraiment top !\n",
            "OpenClassrooms est vraiment top !\n"
          ]
        }
      ]
    }
  ]
}