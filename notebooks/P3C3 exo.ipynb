{
  "cells": [
    {
      "cell_type": "markdown",
      "metadata": {
        "id": "QitDeefjBsfY"
      },
      "source": [
        "![openclassrooms](https://s3.eu-west-1.amazonaws.com/course.oc-static.com/courses/6204541/1+HnqdJ-5ofxiPP9HIxdNdpw.jpeg)\n",
        "\n",
        "# Initiez-vous à Python pour l'analyse de données\n",
        "\n",
        "## Choisissez la boucle adéquate\n",
        "\n",
        "<br><br>\n",
        "\n",
        "**La boucle WHILE : “bouclez” selon une condition**\n",
        "\n",
        "Créez une boucle `for` qui va afficher : 'OpenClassRooms est vraiment top !' 5 fois"
      ]
    },
    {
      "cell_type": "code",
      "execution_count": 3,
      "metadata": {
        "id": "y1I2ooKNBsfe",
        "outputId": "9a035c25-df4d-4f67-e7c6-8b1c686447ea",
        "colab": {
          "base_uri": "https://localhost:8080/"
        }
      },
      "outputs": [
        {
          "output_type": "stream",
          "name": "stdout",
          "text": [
            "OpenClassrooms est vraiment top !\n",
            "OpenClassrooms est vraiment top !\n",
            "OpenClassrooms est vraiment top !\n",
            "OpenClassrooms est vraiment top !\n",
            "OpenClassrooms est vraiment top !\n"
          ]
        }
      ],
      "source": [
        "for i in range(5):\n",
        "  print(\"OpenClassrooms est vraiment top !\")"
      ]
    },
    {
      "cell_type": "markdown",
      "metadata": {
        "id": "B2GMARzDBsff"
      },
      "source": [
        "Changez votre boucle `for` par une boucle `while` :"
      ]
    },
    {
      "cell_type": "code",
      "execution_count": 2,
      "metadata": {
        "id": "g4ReEPZMBsfi",
        "outputId": "9d68c338-0e6d-4494-de2a-7f85b8651a12",
        "colab": {
          "base_uri": "https://localhost:8080/"
        }
      },
      "outputs": [
        {
          "output_type": "stream",
          "name": "stdout",
          "text": [
            "OpenClassrooms est vraiment top !\n",
            "OpenClassrooms est vraiment top !\n",
            "OpenClassrooms est vraiment top !\n",
            "OpenClassrooms est vraiment top !\n",
            "OpenClassrooms est vraiment top !\n"
          ]
        }
      ],
      "source": [
        "nombre_affichage = 0\n",
        "while nombre_affichage < 5:\n",
        "  nombre_affichage += 1\n",
        "  print(\"OpenClassrooms est vraiment top !\")"
      ]
    }
  ],
  "metadata": {
    "kernelspec": {
      "display_name": "Python 3",
      "language": "python",
      "name": "python3"
    },
    "language_info": {
      "codemirror_mode": {
        "name": "ipython",
        "version": 3
      },
      "file_extension": ".py",
      "mimetype": "text/x-python",
      "name": "python",
      "nbconvert_exporter": "python",
      "pygments_lexer": "ipython3",
      "version": "3.8.5"
    },
    "colab": {
      "provenance": []
    }
  },
  "nbformat": 4,
  "nbformat_minor": 0
}